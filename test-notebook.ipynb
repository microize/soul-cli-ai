{
  "nbformat": 4,
  "nbformat_minor": 5,
  "metadata": {
    "kernelspec": {
      "display_name": "Python 3",
      "language": "python",
      "name": "python3"
    }
  },
  "cells": [
    {
      "id": "cell-1",
      "cell_type": "markdown",
      "metadata": {},
      "source": [
        "# Test Notebook\n",
        "\n",
        "This is a test notebook for the NotebookEdit tool."
      ]
    },
    {
      "id": "cell-2",
      "cell_type": "code",
      "metadata": {},
      "source": [
        "import numpy as np\n",
        "import pandas as pd\n",
        "\n",
        "# Create sample data\n",
        "data = np.random.randn(100, 3)\n",
        "df = pd.DataFrame(data, columns=['A', 'B', 'C'])\n",
        "print(df.head())"
      ],
      "outputs": [],
      "execution_count": null
    },
    {
      "id": "cell-3",
      "cell_type": "markdown",
      "metadata": {},
      "source": [
        "## Data Analysis\n",
        "\n",
        "Let's analyze the data."
      ]
    }
  ]
}